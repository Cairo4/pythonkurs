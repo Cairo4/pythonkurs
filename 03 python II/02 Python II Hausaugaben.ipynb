{
 "cells": [
  {
   "cell_type": "markdown",
   "metadata": {},
   "source": [
    "# Python II Hausaufgaben"
   ]
  },
  {
   "cell_type": "markdown",
   "metadata": {},
   "source": [
    "1.Baue eine Funktion mit dem Namen 'double', der die Zahl 5 vedoppelt:"
   ]
  },
  {
   "cell_type": "code",
   "execution_count": 2,
   "metadata": {
    "collapsed": true
   },
   "outputs": [],
   "source": [
    "def double(x):\n",
    "    return x*2"
   ]
  },
  {
   "cell_type": "code",
   "execution_count": 3,
   "metadata": {
    "scrolled": true
   },
   "outputs": [
    {
     "data": {
      "text/plain": [
       "3.0"
      ]
     },
     "execution_count": 3,
     "metadata": {},
     "output_type": "execute_result"
    }
   ],
   "source": [
    "double(1.5)"
   ]
  },
  {
   "cell_type": "markdown",
   "metadata": {},
   "source": [
    "2.Baue einen for-loop, der durch vordefinierte Zahlen-list geht, und mithilfe der eben kreierten eigenen Funktion, alle Resultate verdoppelt ausdruckt."
   ]
  },
  {
   "cell_type": "code",
   "execution_count": 4,
   "metadata": {},
   "outputs": [
    {
     "name": "stdout",
     "output_type": "stream",
     "text": [
      "2\n",
      "4\n",
      "6\n",
      "8\n"
     ]
    }
   ],
   "source": [
    "#RaphiTipps: Algebra und Logik trennen und wissen, was eine Variable gerade für ein Typ ist.\n",
    "lst = list(range(1,5))\n",
    "for elem in lst:\n",
    "    print(double(elem))"
   ]
  },
  {
   "cell_type": "code",
   "execution_count": 13,
   "metadata": {},
   "outputs": [
    {
     "data": {
      "text/plain": [
       "[1, 2, 3, 4, 1, 2, 3, 4]"
      ]
     },
     "execution_count": 13,
     "metadata": {},
     "output_type": "execute_result"
    }
   ],
   "source": [
    "doubleloop(lst)"
   ]
  },
  {
   "cell_type": "code",
   "execution_count": 3,
   "metadata": {},
   "outputs": [
    {
     "data": {
      "text/plain": [
       "list"
      ]
     },
     "execution_count": 3,
     "metadata": {},
     "output_type": "execute_result"
    }
   ],
   "source": [
    "type(lst)"
   ]
  },
  {
   "cell_type": "markdown",
   "metadata": {},
   "source": [
    "3.Entwickle einen Code, der den Nutzer nach der Länge seinem Namen fragt, und ihm dann sagt, wieviele Zeichen sein Name hat."
   ]
  },
  {
   "cell_type": "code",
   "execution_count": 59,
   "metadata": {
    "collapsed": true
   },
   "outputs": [],
   "source": [
    "def namelenght(yourbloodyname):\n",
    "    elem = input(\"Sag mir, wie du heisst und ich sag dir, wie viele Freund du hast: \")\n",
    "    if elem in yourbloodyname:\n",
    "        return(len(elem))"
   ]
  },
  {
   "cell_type": "code",
   "execution_count": 60,
   "metadata": {},
   "outputs": [
    {
     "name": "stdout",
     "output_type": "stream",
     "text": [
      "Sag mir, wie du heisst und ich sag dir, wie viele Freund du hast: Philippe\n"
     ]
    },
    {
     "data": {
      "text/plain": [
       "8"
      ]
     },
     "execution_count": 60,
     "metadata": {},
     "output_type": "execute_result"
    }
   ],
   "source": [
    "namelenght(\"Philippe\")"
   ]
  },
  {
   "cell_type": "code",
   "execution_count": 7,
   "metadata": {},
   "outputs": [],
   "source": [
    "name = input(\"Sags mir!: \")\n",
    "print(\"your name has \" + str(len(name)) + \" letters\")"
   ]
  },
  {
   "cell_type": "markdown",
   "metadata": {},
   "source": [
    "4.Entwickle eine Funktion mit dem Namen km_rechner, der für die untenaufgeführten automatisch die Umrechung von Meilen in km durchführt und gerundet auf eine Kommastelle anzeigt."
   ]
  },
  {
   "cell_type": "code",
   "execution_count": 10,
   "metadata": {
    "collapsed": true
   },
   "outputs": [],
   "source": [
    "def km_rechner(miles):\n",
    "    return (print(\"%.1f\" % (miles*1.609344)))\n",
    "#das \"print\" führt dazu, dass auch alle Ergebnisse angezeigt werden."
   ]
  },
  {
   "cell_type": "code",
   "execution_count": 9,
   "metadata": {},
   "outputs": [
    {
     "name": "stdout",
     "output_type": "stream",
     "text": [
      "8.0\n",
      "197.9\n",
      "85.3\n"
     ]
    }
   ],
   "source": [
    "km_rechner(5)\n",
    "km_rechner(123)\n",
    "km_rechner(53)"
   ]
  },
  {
   "cell_type": "code",
   "execution_count": 66,
   "metadata": {},
   "outputs": [
    {
     "data": {
      "text/plain": [
       "'1.6'"
      ]
     },
     "execution_count": 66,
     "metadata": {},
     "output_type": "execute_result"
    }
   ],
   "source": [
    "km_rechner(1)"
   ]
  },
  {
   "cell_type": "code",
   "execution_count": null,
   "metadata": {
    "collapsed": true
   },
   "outputs": [],
   "source": [
    "def km_rechner2(miles):\n",
    "    result = (\"%.1f\" % (miles*1.609344))\n",
    "    return result"
   ]
  },
  {
   "cell_type": "code",
   "execution_count": null,
   "metadata": {
    "collapsed": true
   },
   "outputs": [],
   "source": [
    "#der km_rechner2 macht genau das gleiche. Es gibt nur den Zwischenschritt, in dem \"result\" noch definiert wird.\n",
    "#das macht den Code übersichtlicher."
   ]
  },
  {
   "cell_type": "markdown",
   "metadata": {},
   "source": [
    "5.Wir haben in einem Dictionary mit Massen, die mit ganz unterschiedlichen Formaten daherkommen. Entwickle eine Funktion namens m_converter, die diese Formate berücksichtigt, und in Meter umwandelt."
   ]
  },
  {
   "cell_type": "code",
   "execution_count": 13,
   "metadata": {
    "collapsed": true
   },
   "outputs": [],
   "source": [
    "#Unsere Formate\n",
    "var_first = { 'measurement': 3.4, 'scale': 'kilometer' }\n",
    "var_second = { 'measurement': 9.1, 'scale': 'mile' }\n",
    "var_third = { 'measurement': 2.0, 'scale': 'meter' }\n",
    "var_fourth = { 'measurement': 9.0, 'scale': 'inches' }\n",
    "var_fifth = { 'measurement': 10.3, 'scale': 'foot' }"
   ]
  },
  {
   "cell_type": "code",
   "execution_count": 14,
   "metadata": {
    "collapsed": true
   },
   "outputs": [],
   "source": [
    "def m_converter(dic):\n",
    "    if (dic[\"scale\"]) == \"kilometer\":\n",
    "        return(\"%.0f\" % (dic[\"measurement\"]*1000))\n",
    "    elif (dic[\"scale\"]) == \"mile\":\n",
    "        return(\"%.0f\" % (dic[\"measurement\"]*1609.344))\n",
    "    elif (dic[\"scale\"]) == \"meter\":\n",
    "        return(dic[\"measurement\"])\n",
    "    #Wenn ich an dieser Stelle (Line direkt darüber) die gleiche return-Formel wie sonst eingebe, gibt es \n",
    "    #einen Syntax-Error bei den inches (Line direkt darunter). wtf?\n",
    "    elif (dic[\"scale\"]) == \"inches\":\n",
    "        return(\"%.3f\" % (dic[\"measurement\"]*0.0254))\n",
    "    else:\n",
    "        return(\"Diese Messgrösse ist nicht definiert\")"
   ]
  },
  {
   "cell_type": "code",
   "execution_count": 15,
   "metadata": {},
   "outputs": [
    {
     "name": "stdout",
     "output_type": "stream",
     "text": [
      "3400\n",
      "14645\n",
      "2.0\n",
      "0.229\n",
      "Diese Messgrösse ist nicht definiert\n"
     ]
    }
   ],
   "source": [
    "print(m_converter(var_first))\n",
    "print(m_converter(var_second))\n",
    "print(m_converter(var_third))\n",
    "print(m_converter(var_fourth))\n",
    "print(m_converter(var_fifth))"
   ]
  }
 ],
 "metadata": {
  "kernelspec": {
   "display_name": "Python 3",
   "language": "python",
   "name": "python3"
  },
  "language_info": {
   "codemirror_mode": {
    "name": "ipython",
    "version": 3
   },
   "file_extension": ".py",
   "mimetype": "text/x-python",
   "name": "python",
   "nbconvert_exporter": "python",
   "pygments_lexer": "ipython3",
   "version": "3.5.2"
  }
 },
 "nbformat": 4,
 "nbformat_minor": 2
}
